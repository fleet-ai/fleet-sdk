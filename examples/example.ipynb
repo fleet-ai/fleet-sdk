{
 "cells": [
  {
   "cell_type": "code",
   "execution_count": 1,
   "id": "5cd8c88c",
   "metadata": {},
   "outputs": [],
   "source": [
    "import fleet as flt\n"
   ]
  },
  {
   "cell_type": "code",
   "execution_count": 4,
   "id": "2f2ebdfe",
   "metadata": {},
   "outputs": [
    {
     "name": "stdout",
     "output_type": "stream",
     "text": [
      "Environments: 3\n",
      "[{'name': 'seed', 'type': 'sqlite', 'mode': 'ro', 'label': 'Seed database'}, {'name': 'current', 'type': 'sqlite', 'mode': 'rw', 'label': 'Current database'}, {'name': 'cdp', 'type': 'cdp', 'mode': 'rw', 'label': 'CDP'}]\n",
      "New Instance: afa358cc\n",
      "Environment Default Version: v1.2.6\n"
     ]
    }
   ],
   "source": [
    "fleet = flt.AsyncFleet(api_key=\"sk_altYhLjKdJ2ixgfX2zefJFKAOpVGIU3rjSDZ6n3NhKw\")\n",
    "\n",
    "environments = await fleet.list_envs()\n",
    "print(\"Environments:\", len(environments))\n",
    "\n",
    "# Create a new instance\n",
    "instance = await fleet.make(flt.InstanceRequest(env_key=\"hubspot\", version=\"v1.2.7\"))\n",
    "print(\"New Instance:\", instance.instance_id)\n",
    "\n",
    "environment = await fleet.environment(instance.env_key)\n",
    "print(\"Environment Default Version:\", environment.default_version)"
   ]
  },
  {
   "cell_type": "code",
   "execution_count": 5,
   "id": "5e63fc84",
   "metadata": {},
   "outputs": [
    {
     "name": "stdout",
     "output_type": "stream",
     "text": [
      "Reset response: success=True message='Database reset successfully'\n",
      "[<fleet.resources.sqlite.AsyncSQLiteResource object at 0x113932570>, <fleet.resources.browser.AsyncBrowserResource object at 0x1156e5bb0>]\n",
      "SQLite: success=True resource_name='current' tables=[TableSchema(name='activities', sql=\"CREATE TABLE activities (\\n            id INTEGER PRIMARY KEY AUTOINCREMENT,\\n            user_id INTEGER NOT NULL, -- User who performed the activity\\n            owner_id INTEGER, -- User who owns the activity\\n            activity_type TEXT NOT NULL, -- 'email', 'call', 'meeting', 'note', 'stage_change', 'task'\\n            subject TEXT,\\n            body TEXT,\\n            metadata TEXT, -- JSON for additional data like duration, outcome, etc.\\n            activity_date DATETIME NOT NULL,\\n            createdAt DATETIME DEFAULT CURRENT_TIMESTAMP,\\n            FOREIGN KEY (user_id) REFERENCES users(id),\\n            FOREIGN KEY (owner_id) REFERENCES users(id)\\n        )\", columns=[{'cid': 0, 'name': 'id', 'type': 'INTEGER', 'notnull': False, 'default_value': None, 'primary_key': True}, {'cid': 1, 'name': 'user_id', 'type': 'INTEGER', 'notnull': True, 'default_value': None, 'primary_key': False}, {'cid': 2, 'name': 'owner_id', 'type': 'INTEGER', 'notnull': False, 'default_value': None, 'primary_key': False}, {'cid': 3, 'name': 'activity_type', 'type': 'TEXT', 'notnull': True, 'default_value': None, 'primary_key': False}, {'cid': 4, 'name': 'subject', 'type': 'TEXT', 'notnull': False, 'default_value': None, 'primary_key': False}, {'cid': 5, 'name': 'body', 'type': 'TEXT', 'notnull': False, 'default_value': None, 'primary_key': False}, {'cid': 6, 'name': 'metadata', 'type': 'TEXT', 'notnull': False, 'default_value': None, 'primary_key': False}, {'cid': 7, 'name': 'activity_date', 'type': 'DATETIME', 'notnull': True, 'default_value': None, 'primary_key': False}, {'cid': 8, 'name': 'createdAt', 'type': 'DATETIME', 'notnull': False, 'default_value': 'CURRENT_TIMESTAMP', 'primary_key': False}]), TableSchema(name='entries', sql=\"CREATE TABLE entries (\\n            id INTEGER PRIMARY KEY AUTOINCREMENT,\\n            name TEXT NOT NULL,\\n            type TEXT NOT NULL CHECK (type IN ('company', 'deal', 'contact', 'ticket')),\\n            owner_id INTEGER, -- Foreign key to users table\\n            createdDate TEXT,\\n            lastModifiedDate TEXT,\\n            createdAt DATETIME DEFAULT CURRENT_TIMESTAMP,\\n            updatedAt DATETIME DEFAULT CURRENT_TIMESTAMP,\\n            archivedAt DATETIME NULL,\\n            properties TEXT NOT NULL, -- JSONB in postgres, TEXT in sqlite\\n            FOREIGN KEY (owner_id) REFERENCES users(id)\\n        )\", columns=[{'cid': 0, 'name': 'id', 'type': 'INTEGER', 'notnull': False, 'default_value': None, 'primary_key': True}, {'cid': 1, 'name': 'name', 'type': 'TEXT', 'notnull': True, 'default_value': None, 'primary_key': False}, {'cid': 2, 'name': 'type', 'type': 'TEXT', 'notnull': True, 'default_value': None, 'primary_key': False}, {'cid': 3, 'name': 'owner_id', 'type': 'INTEGER', 'notnull': False, 'default_value': None, 'primary_key': False}, {'cid': 4, 'name': 'createdDate', 'type': 'TEXT', 'notnull': False, 'default_value': None, 'primary_key': False}, {'cid': 5, 'name': 'lastModifiedDate', 'type': 'TEXT', 'notnull': False, 'default_value': None, 'primary_key': False}, {'cid': 6, 'name': 'createdAt', 'type': 'DATETIME', 'notnull': False, 'default_value': 'CURRENT_TIMESTAMP', 'primary_key': False}, {'cid': 7, 'name': 'updatedAt', 'type': 'DATETIME', 'notnull': False, 'default_value': 'CURRENT_TIMESTAMP', 'primary_key': False}, {'cid': 8, 'name': 'archivedAt', 'type': 'DATETIME', 'notnull': False, 'default_value': None, 'primary_key': False}, {'cid': 9, 'name': 'properties', 'type': 'TEXT', 'notnull': True, 'default_value': None, 'primary_key': False}]), TableSchema(name='entries_activities', sql='CREATE TABLE entries_activities (\\n            id INTEGER PRIMARY KEY AUTOINCREMENT,\\n            activity_id INTEGER NOT NULL,\\n            entry_id INTEGER NOT NULL,\\n            createdAt DATETIME DEFAULT CURRENT_TIMESTAMP,\\n            FOREIGN KEY (activity_id) REFERENCES activities(id),\\n            FOREIGN KEY (entry_id) REFERENCES entries(id),\\n            UNIQUE(activity_id, entry_id)\\n        )', columns=[{'cid': 0, 'name': 'id', 'type': 'INTEGER', 'notnull': False, 'default_value': None, 'primary_key': True}, {'cid': 1, 'name': 'activity_id', 'type': 'INTEGER', 'notnull': True, 'default_value': None, 'primary_key': False}, {'cid': 2, 'name': 'entry_id', 'type': 'INTEGER', 'notnull': True, 'default_value': None, 'primary_key': False}, {'cid': 3, 'name': 'createdAt', 'type': 'DATETIME', 'notnull': False, 'default_value': 'CURRENT_TIMESTAMP', 'primary_key': False}]), TableSchema(name='entries_relationships', sql=\"CREATE TABLE entries_relationships (\\n            id INTEGER PRIMARY KEY AUTOINCREMENT,\\n            parent_id INTEGER NOT NULL,\\n            child_id INTEGER NOT NULL,\\n            relationship_type TEXT NOT NULL, -- 'parent_company', 'deal_company', 'contact_company', 'contact_deal', 'ticket_company', 'ticket_contact'\\n            createdAt DATETIME DEFAULT CURRENT_TIMESTAMP,\\n            FOREIGN KEY (parent_id) REFERENCES entries(id),\\n            FOREIGN KEY (child_id) REFERENCES entries(id),\\n            UNIQUE(parent_id, child_id, relationship_type)\\n        )\", columns=[{'cid': 0, 'name': 'id', 'type': 'INTEGER', 'notnull': False, 'default_value': None, 'primary_key': True}, {'cid': 1, 'name': 'parent_id', 'type': 'INTEGER', 'notnull': True, 'default_value': None, 'primary_key': False}, {'cid': 2, 'name': 'child_id', 'type': 'INTEGER', 'notnull': True, 'default_value': None, 'primary_key': False}, {'cid': 3, 'name': 'relationship_type', 'type': 'TEXT', 'notnull': True, 'default_value': None, 'primary_key': False}, {'cid': 4, 'name': 'createdAt', 'type': 'DATETIME', 'notnull': False, 'default_value': 'CURRENT_TIMESTAMP', 'primary_key': False}]), TableSchema(name='entries_roles', sql='CREATE TABLE entries_roles (\\n            id INTEGER PRIMARY KEY AUTOINCREMENT,\\n            entry_id INTEGER NOT NULL,\\n            role_id INTEGER NOT NULL,\\n            createdAt DATETIME DEFAULT CURRENT_TIMESTAMP,\\n            FOREIGN KEY (entry_id) REFERENCES entries(id),\\n            FOREIGN KEY (role_id) REFERENCES roles(id),\\n            UNIQUE(entry_id, role_id)\\n        )', columns=[{'cid': 0, 'name': 'id', 'type': 'INTEGER', 'notnull': False, 'default_value': None, 'primary_key': True}, {'cid': 1, 'name': 'entry_id', 'type': 'INTEGER', 'notnull': True, 'default_value': None, 'primary_key': False}, {'cid': 2, 'name': 'role_id', 'type': 'INTEGER', 'notnull': True, 'default_value': None, 'primary_key': False}, {'cid': 3, 'name': 'createdAt', 'type': 'DATETIME', 'notnull': False, 'default_value': 'CURRENT_TIMESTAMP', 'primary_key': False}]), TableSchema(name='entries_users', sql='CREATE TABLE entries_users (\\n            id INTEGER PRIMARY KEY AUTOINCREMENT,\\n            entry_id INTEGER NOT NULL,\\n            user_id INTEGER NOT NULL,\\n            is_owner BOOLEAN DEFAULT TRUE,\\n            createdAt DATETIME DEFAULT CURRENT_TIMESTAMP,\\n            FOREIGN KEY (entry_id) REFERENCES entries(id),\\n            FOREIGN KEY (user_id) REFERENCES users(id)\\n        )', columns=[{'cid': 0, 'name': 'id', 'type': 'INTEGER', 'notnull': False, 'default_value': None, 'primary_key': True}, {'cid': 1, 'name': 'entry_id', 'type': 'INTEGER', 'notnull': True, 'default_value': None, 'primary_key': False}, {'cid': 2, 'name': 'user_id', 'type': 'INTEGER', 'notnull': True, 'default_value': None, 'primary_key': False}, {'cid': 3, 'name': 'is_owner', 'type': 'BOOLEAN', 'notnull': False, 'default_value': 'TRUE', 'primary_key': False}, {'cid': 4, 'name': 'createdAt', 'type': 'DATETIME', 'notnull': False, 'default_value': 'CURRENT_TIMESTAMP', 'primary_key': False}]), TableSchema(name='roles', sql='CREATE TABLE roles (\\n            id INTEGER PRIMARY KEY AUTOINCREMENT,\\n            name TEXT UNIQUE NOT NULL,\\n            description TEXT\\n        )', columns=[{'cid': 0, 'name': 'id', 'type': 'INTEGER', 'notnull': False, 'default_value': None, 'primary_key': True}, {'cid': 1, 'name': 'name', 'type': 'TEXT', 'notnull': True, 'default_value': None, 'primary_key': False}, {'cid': 2, 'name': 'description', 'type': 'TEXT', 'notnull': False, 'default_value': None, 'primary_key': False}]), TableSchema(name='users', sql='CREATE TABLE users (\\n            id INTEGER PRIMARY KEY AUTOINCREMENT,\\n            email TEXT UNIQUE NOT NULL,\\n            display_name TEXT NOT NULL,\\n            me BOOLEAN DEFAULT FALSE\\n        )', columns=[{'cid': 0, 'name': 'id', 'type': 'INTEGER', 'notnull': False, 'default_value': None, 'primary_key': True}, {'cid': 1, 'name': 'email', 'type': 'TEXT', 'notnull': True, 'default_value': None, 'primary_key': False}, {'cid': 2, 'name': 'display_name', 'type': 'TEXT', 'notnull': True, 'default_value': None, 'primary_key': False}, {'cid': 3, 'name': 'me', 'type': 'BOOLEAN', 'notnull': False, 'default_value': 'FALSE', 'primary_key': False}])] error=None message=\"Successfully described resource 'current'\"\n"
     ]
    }
   ],
   "source": [
    "response = await instance.env.reset(flt.ResetRequest(seed=42))\n",
    "print(\"Reset response:\", response)\n",
    "\n",
    "print(await instance.env.resources())\n",
    "\n",
    "sqlite = instance.env.db(\"current\")\n",
    "print(\"SQLite:\", await sqlite.describe())"
   ]
  },
  {
   "cell_type": "code",
   "execution_count": 6,
   "id": "1d932a8e",
   "metadata": {},
   "outputs": [
    {
     "name": "stdout",
     "output_type": "stream",
     "text": [
      "Query: success=True columns=['id', 'email', 'display_name', 'me'] rows=[[1, 'sarah.kim@company.com', 'Sarah Kim', 1], [2, 'john.smith@company.com', 'John Smith', 0], [3, 'emily.chen@company.com', 'Emily Chen', 0], [4, 'michael.brown@company.com', 'Michael Brown', 0], [5, 'lisa.wang@company.com', 'Lisa Wang', 0], [6, 'david.johnson@company.com', 'David Johnson', 0], [7, 'jennifer.davis@company.com', 'Jennifer Davis', 0], [8, 'robert.wilson@company.com', 'Robert Wilson', 0], [9, 'maria.garcia@company.com', 'Maria Garcia', 0], [10, 'james.anderson@company.com', 'James Anderson', 0], [11, 'support.team@company.com', 'Support Team', 0], [12, 'mike.johnson@company.com', 'Mike Johnson', 0], [13, 'edward.jackson@nimbusai.com', 'Edward Jackson', 0], [14, 'sarah.kim@nimbus.ai', 'Sarah Kim', 1], [15, 'betty.alexander@nimbusai.com', 'Betty Alexander', 0], [16, 'raj_patel@nimbusai.ai', 'Raj Patel', 0], [17, 'melissa.carter@nimbusai.com', 'Melissa Carter', 0], [18, 'marcus_johnson@nimbusai.ai', 'Marcus Johnson', 0], [19, 'sebastian.brooks@nimbusai.com', 'Sebastian Brooks', 0], [20, 'elena_rodriguez@nimbusai.ai', 'Elena Rodriguez', 0], [21, 'grace.nelson@nimbusai.com', 'Grace Nelson', 0], [22, 'david_zhang@nimbusai.ai', 'David Zhang', 0], [23, 'joseph.henderson@nimbusai.com', 'Joseph Henderson', 0], [24, 'alex_chen@nimbusai.ai', 'Alex Chen', 0], [25, 'kevin.schmidt@nimbusai.com', 'Kevin Schmidt', 0], [26, 'sarah_johnson@nimbusai.ai', 'Sarah Johnson', 0], [27, 'aria.clark@nimbusai.com', 'Aria Clark', 0], [28, 'maya_williams@nimbusai.ai', 'Maya Williams', 0], [29, 'owen.adams@nimbusai.com', 'Owen Adams', 0], [30, 'thomas_lee@nimbusai.ai', 'Thomas Lee', 0], [31, 'dylan.cooper@nimbusai.com', 'Dylan Cooper', 0], [32, 'aisha_johnson@nimbusai.ai', 'Aisha Johnson', 0], [33, 'michelle.robinson@nimbusai.com', 'Michelle Robinson', 0], [34, 'daniel_garcia@nimbusai.ai', 'Daniel Garcia', 0], [35, 'michelle.kim@nimbusai.com', 'Michelle Kim', 0], [36, 'olivia_chen@nimbusai.ai', 'Olivia Chen', 0], [37, 'lisa.white@nimbusai.com', 'Lisa White', 0], [38, 'james_wilson@nimbusai.ai', 'James Wilson', 0], [39, 'grace.ross@nimbusai.com', 'Grace Ross', 0], [40, 'luke.thompson@nimbusai.com', 'Luke Thompson', 0], [41, 'lucas.king@nimbusai.com', 'Lucas King', 0], [42, \"jennifer.o'brien@nimbusai.com\", \"Jennifer O'Brien\", 0], [43, 'jack.sanders@nimbusai.com', 'Jack Sanders', 0], [44, 'carol.wang@nimbusai.com', 'Carol Wang', 0], [45, 'karen.jones@nimbusai.com', 'Karen Jones', 0], [46, 'samantha.thompson@nimbusai.com', 'Samantha Thompson', 0], [47, 'mia.hamilton@nimbusai.com', 'Mia Hamilton', 0], [48, 'aria.reed@nimbusai.com', 'Aria Reed', 0], [49, 'sophia.cohen@nimbusai.com', 'Sophia Cohen', 0], [50, 'jessica.ramirez@nimbusai.com', 'Jessica Ramirez', 0], [51, 'betty.murphy@nimbusai.com', 'Betty Murphy', 0], [52, 'michelle.thompson@nimbusai.com', 'Michelle Thompson', 0], [53, 'sebastian.scott@nimbusai.com', 'Sebastian Scott', 0], [54, 'stephanie.morales@nimbusai.com', 'Stephanie Morales', 0], [55, 'nancy.baker@nimbusai.com', 'Nancy Baker', 0], [56, 'matthew.lopez@nimbusai.com', 'Matthew Lopez', 0], [57, 'kevin.hall@nimbusai.com', 'Kevin Hall', 0], [58, 'evelyn.hernandez@nimbusai.com', 'Evelyn Hernandez', 0], [59, 'emma.mitchell@nimbusai.com', 'Emma Mitchell', 0], [60, 'betty.torres@nimbusai.com', 'Betty Torres', 0], [61, 'penelope.coleman@nimbusai.com', 'Penelope Coleman', 0], [62, 'madison.ward@nimbusai.com', 'Madison Ward', 0], [63, 'aiden.nelson@nimbusai.com', 'Aiden Nelson', 0], [64, 'emily.hall@nimbusai.com', 'Emily Hall', 0], [65, 'amelia.white@nimbusai.com', 'Amelia White', 0], [66, 'abigail.taylor@nimbusai.com', 'Abigail Taylor', 0], [67, 'logan.ford@nimbusai.com', 'Logan Ford', 0], [68, 'charles.baker@nimbusai.com', 'Charles Baker', 0], [69, 'daniel.taylor@nimbusai.com', 'Daniel Taylor', 0], [70, 'jacob.hall@nimbusai.com', 'Jacob Hall', 0], [71, 'jennifer.lewis@nimbusai.com', 'Jennifer Lewis', 0], [72, 'isabella.nelson@nimbusai.com', 'Isabella Nelson', 0], [73, 'richard.allen@nimbusai.com', 'Richard Allen', 0], [74, 'zoey.reed@nimbusai.com', 'Zoey Reed', 0]] rows_affected=None last_insert_id=None error=None message='Query executed successfully'\n"
     ]
    }
   ],
   "source": [
    "print(\"Query:\", await sqlite.query(\"SELECT * FROM users\"))"
   ]
  }
 ],
 "metadata": {
  "kernelspec": {
   "display_name": ".venv",
   "language": "python",
   "name": "python3"
  },
  "language_info": {
   "codemirror_mode": {
    "name": "ipython",
    "version": 3
   },
   "file_extension": ".py",
   "mimetype": "text/x-python",
   "name": "python",
   "nbconvert_exporter": "python",
   "pygments_lexer": "ipython3",
   "version": "3.12.10"
  }
 },
 "nbformat": 4,
 "nbformat_minor": 5
}
