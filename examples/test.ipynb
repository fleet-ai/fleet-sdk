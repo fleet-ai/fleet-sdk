{
 "cells": [
  {
   "cell_type": "code",
   "execution_count": 1,
   "id": "97f74a90",
   "metadata": {},
   "outputs": [
    {
     "name": "stdout",
     "output_type": "stream",
     "text": [
      "Requirement already satisfied: fleet-python in /Library/Frameworks/Python.framework/Versions/3.10/lib/python3.10/site-packages (0.1.0)\n",
      "Requirement already satisfied: aiohttp>=3.8.0 in /Library/Frameworks/Python.framework/Versions/3.10/lib/python3.10/site-packages (from fleet-python) (3.10.11)\n",
      "Requirement already satisfied: pydantic>=2.0.0 in /Library/Frameworks/Python.framework/Versions/3.10/lib/python3.10/site-packages (from fleet-python) (2.11.3)\n",
      "Requirement already satisfied: typing-extensions>=4.0.0 in /Library/Frameworks/Python.framework/Versions/3.10/lib/python3.10/site-packages (from fleet-python) (4.12.2)\n",
      "Requirement already satisfied: aiohappyeyeballs>=2.3.0 in /Library/Frameworks/Python.framework/Versions/3.10/lib/python3.10/site-packages (from aiohttp>=3.8.0->fleet-python) (2.4.0)\n",
      "Requirement already satisfied: aiosignal>=1.1.2 in /Library/Frameworks/Python.framework/Versions/3.10/lib/python3.10/site-packages (from aiohttp>=3.8.0->fleet-python) (1.3.1)\n",
      "Requirement already satisfied: attrs>=17.3.0 in /Library/Frameworks/Python.framework/Versions/3.10/lib/python3.10/site-packages (from aiohttp>=3.8.0->fleet-python) (23.2.0)\n",
      "Requirement already satisfied: frozenlist>=1.1.1 in /Library/Frameworks/Python.framework/Versions/3.10/lib/python3.10/site-packages (from aiohttp>=3.8.0->fleet-python) (1.4.1)\n",
      "Requirement already satisfied: multidict<7.0,>=4.5 in /Library/Frameworks/Python.framework/Versions/3.10/lib/python3.10/site-packages (from aiohttp>=3.8.0->fleet-python) (6.1.0)\n",
      "Requirement already satisfied: yarl<2.0,>=1.12.0 in /Library/Frameworks/Python.framework/Versions/3.10/lib/python3.10/site-packages (from aiohttp>=3.8.0->fleet-python) (1.15.2)\n",
      "Requirement already satisfied: async-timeout<6.0,>=4.0 in /Library/Frameworks/Python.framework/Versions/3.10/lib/python3.10/site-packages (from aiohttp>=3.8.0->fleet-python) (4.0.3)\n",
      "Requirement already satisfied: annotated-types>=0.6.0 in /Library/Frameworks/Python.framework/Versions/3.10/lib/python3.10/site-packages (from pydantic>=2.0.0->fleet-python) (0.7.0)\n",
      "Requirement already satisfied: pydantic-core==2.33.1 in /Library/Frameworks/Python.framework/Versions/3.10/lib/python3.10/site-packages (from pydantic>=2.0.0->fleet-python) (2.33.1)\n",
      "Requirement already satisfied: typing-inspection>=0.4.0 in /Library/Frameworks/Python.framework/Versions/3.10/lib/python3.10/site-packages (from pydantic>=2.0.0->fleet-python) (0.4.0)\n",
      "Requirement already satisfied: idna>=2.0 in /Library/Frameworks/Python.framework/Versions/3.10/lib/python3.10/site-packages (from yarl<2.0,>=1.12.0->aiohttp>=3.8.0->fleet-python) (3.10)\n",
      "Requirement already satisfied: propcache>=0.2.0 in /Library/Frameworks/Python.framework/Versions/3.10/lib/python3.10/site-packages (from yarl<2.0,>=1.12.0->aiohttp>=3.8.0->fleet-python) (0.3.1)\n",
      "\n",
      "\u001b[1m[\u001b[0m\u001b[34;49mnotice\u001b[0m\u001b[1;39;49m]\u001b[0m\u001b[39;49m A new release of pip is available: \u001b[0m\u001b[31;49m23.3.1\u001b[0m\u001b[39;49m -> \u001b[0m\u001b[32;49m25.1.1\u001b[0m\n",
      "\u001b[1m[\u001b[0m\u001b[34;49mnotice\u001b[0m\u001b[1;39;49m]\u001b[0m\u001b[39;49m To update, run: \u001b[0m\u001b[32;49mpip install --upgrade pip\u001b[0m\n"
     ]
    }
   ],
   "source": [
    "!pip install fleet-python"
   ]
  },
  {
   "cell_type": "code",
   "execution_count": 20,
   "id": "ddf286bc",
   "metadata": {},
   "outputs": [
    {
     "name": "stdout",
     "output_type": "stream",
     "text": [
      "✅ Loaded .env file\n",
      "✅ API key loaded: sk_WTvuk...wcwM\n"
     ]
    }
   ],
   "source": [
    "# Load environment variables from .env file\n",
    "import os\n",
    "from pathlib import Path\n",
    "\n",
    "# Load .env file if it exists\n",
    "env_file = Path('.env')\n",
    "if env_file.exists():\n",
    "    with open(env_file) as f:\n",
    "        for line in f:\n",
    "            if line.strip() and not line.startswith('#'):\n",
    "                key, value = line.strip().split('=', 1)\n",
    "                os.environ[key] = value\n",
    "    print(\"✅ Loaded .env file\")\n",
    "else:\n",
    "    print(\"❌ .env file not found\")\n",
    "\n",
    "# Verify API key is loaded\n",
    "api_key = os.environ.get('FLEET_API_KEY')\n",
    "if api_key:\n",
    "    print(f\"✅ API key loaded: {api_key[:8]}...{api_key[-4:]}\")\n",
    "else:\n",
    "    print(\"❌ FLEET_API_KEY not found in environment\")"
   ]
  },
  {
   "cell_type": "code",
   "execution_count": 22,
   "id": "79286152",
   "metadata": {},
   "outputs": [
    {
     "name": "stdout",
     "output_type": "stream",
     "text": [
      "✅ Fleet SDK imported successfully!\n",
      "📦 Version: 0.1.0\n",
      "🔧 Available modules: ['APIEnvironment', 'FleetAPIClient', 'FleetAPIError', 'FleetConfig', 'FleetConfigurationError', 'FleetError', 'FleetManagerClient', 'FleetTimeoutError', 'HealthResponse', 'InstanceRequest', 'InstanceResponse', 'InstanceURLs', 'ManagerHealthResponse', 'ManagerURLs', 'TimestampResponse', 'client', 'config', 'env', 'exceptions', 'facets', 'get_config', 'manager_client']\n"
     ]
    }
   ],
   "source": [
    "# Test import and basic functionality\n",
    "\n",
    "import fleet as flt\n",
    "\n",
    "print(f\"✅ Fleet SDK imported successfully!\")\n",
    "print(f\"📦 Version: {flt.__version__}\")\n",
    "print(f\"🔧 Available modules: {[x for x in dir(flt) if not x.startswith('_')]}\")\n"
   ]
  },
  {
   "cell_type": "code",
   "execution_count": null,
   "id": "789a5876",
   "metadata": {},
   "outputs": [
    {
     "name": "stdout",
     "output_type": "stream",
     "text": [
      "🌍 Available environments (4):\n",
      "--------------------------------------------------\n",
      "🔹 confluence\n",
      "   📝 Confluence with Jira access\n",
      "   📋 Default version: v1.2.5\n",
      "\n",
      "🔹 dropbox\n",
      "   📝 File storage and sharing platform with cloud sync capabilities\n",
      "   📋 Default version: v1.3.2\n",
      "\n",
      "🔹 fira\n",
      "   📝 Jira, Jira Service Management, Jira Product Discovery, with Confluence access\n",
      "   📋 Default version: v1.2.5\n",
      "\n",
      "🔹 hubspot\n",
      "   📝 CRM and marketing automation for growing businesses\n",
      "   📋 Default version: v1.2.3\n",
      "\n"
     ]
    }
   ],
   "source": [
    "# List available environments\n",
    "\n",
    "def list_available_environments():\n",
    "    \"\"\"List all available environments on the platform.\"\"\"\n",
    "    try:\n",
    "        environments = flt.env.list_envs()\n",
    "        print(f\"🌍 Available environments ({len(environments)}):\")\n",
    "        print(\"-\" * 50)\n",
    "        \n",
    "        for env in environments[:10]:  # Show first 10\n",
    "            print(f\"🔹 {env.env_key}\")\n",
    "            if env.description:\n",
    "                print(f\"   📝 {env.description}\")\n",
    "            if env.default_version:\n",
    "                print(f\"   📋 Default version: {env.default_version}\")\n",
    "            print()\n",
    "            \n",
    "        if len(environments) > 10:\n",
    "            print(f\"... and {len(environments) - 10} more environments\")\n",
    "            \n",
    "        return environments\n",
    "    except Exception as e:\n",
    "        print(f\"❌ Error listing environments: {e}\")\n",
    "        return []\n",
    "\n",
    "# Run the function\n",
    "environments = list_available_environments()\n"
   ]
  },
  {
   "cell_type": "code",
   "execution_count": null,
   "id": "35dcb6f4",
   "metadata": {},
   "outputs": [
    {
     "name": "stdout",
     "output_type": "stream",
     "text": [
      "🚀 Creating new environment instance...\n",
      "✅ Environment instance created successfully!\n",
      "🆔 Instance ID: 5b9fc55c\n",
      "❌ Error creating environment: 'RemoteEnvironment' object has no attribute 'env_key'\n"
     ]
    },
    {
     "name": "stderr",
     "output_type": "stream",
     "text": [
      "Traceback (most recent call last):\n",
      "  File \"/var/folders/gb/s4mkbx1j5x187xr7c5rldcrw0000gn/T/ipykernel_91425/4009314754.py\", line 13, in create_test_environment\n",
      "    print(f\"🏷️  Environment Key: {env.env_key}\")\n",
      "AttributeError: 'RemoteEnvironment' object has no attribute 'env_key'\n"
     ]
    }
   ],
   "source": [
    "# Create a new environment instance\n",
    "\n",
    "def create_test_environment():\n",
    "    \"\"\"Create a new environment instance for testing.\"\"\"\n",
    "    try:\n",
    "        print(\"🚀 Creating new environment instance...\")\n",
    "        \n",
    "        # Create environment (this will actually create an instance)\n",
    "        env = flt.env.make(\"fira\")  # Using 'fira' as it's commonly available\n",
    "        \n",
    "        print(f\"✅ Environment instance created successfully!\")\n",
    "        print(f\"🆔 Instance ID: {env.instance_id}\")\n",
    "        print(f\"🏷️  Environment Key: {env.env_key}\")\n",
    "        print(f\"📍 Region: {env.region}\")\n",
    "        print(f\"🔗 Status: Creating/Starting...\")\n",
    "        \n",
    "        return env\n",
    "        \n",
    "    except Exception as e:\n",
    "        print(f\"❌ Error creating environment: {e}\")\n",
    "        import traceback\n",
    "        traceback.print_exc()\n",
    "        return None\n",
    "\n",
    "# Create the environment\n",
    "test_env = create_test_environment()\n"
   ]
  },
  {
   "cell_type": "code",
   "execution_count": null,
   "id": "8d485176",
   "metadata": {},
   "outputs": [
    {
     "name": "stdout",
     "output_type": "stream",
     "text": [
      "📋 Listing all running instances...\n",
      "🏃 Running instances (63):\n",
      "------------------------------------------------------------\n",
      "🔵 5b9fc55c\n",
      "   🏷️  Environment: fira\n",
      "   ⚡ Status: running\n",
      "❌ Error listing instances: 'EnvironmentInstance' object has no attribute 'subdomain'\n"
     ]
    },
    {
     "name": "stderr",
     "output_type": "stream",
     "text": [
      "Traceback (most recent call last):\n",
      "  File \"/var/folders/gb/s4mkbx1j5x187xr7c5rldcrw0000gn/T/ipykernel_91425/631420490.py\", line 23, in list_running_instances\n",
      "    print(f\"   🌐 Subdomain: {instance.subdomain}\")\n",
      "AttributeError: 'EnvironmentInstance' object has no attribute 'subdomain'\n"
     ]
    }
   ],
   "source": [
    "# List all running instances to verify our environment is there\n",
    "\n",
    "def list_running_instances():\n",
    "    \"\"\"List all running environment instances.\"\"\"\n",
    "    try:\n",
    "        print(\"📋 Listing all running instances...\")\n",
    "        \n",
    "        # Get all running instances\n",
    "        instances = flt.env.list_instances(status=\"running\")\n",
    "        \n",
    "        print(f\"🏃 Running instances ({len(instances)}):\")\n",
    "        print(\"-\" * 60)\n",
    "        \n",
    "        our_instance_found = False\n",
    "        \n",
    "        for instance in instances[:15]:  # Show first 15\n",
    "            is_ours = test_env and instance.instance_id == test_env.instance_id\n",
    "            marker = \"🟢 [OURS]\" if is_ours else \"🔵\"\n",
    "            \n",
    "            print(f\"{marker} {instance.instance_id}\")\n",
    "            print(f\"   🏷️  Environment: {instance.env_key}\")\n",
    "            print(f\"   ⚡ Status: {instance.status}\")\n",
    "            print(f\"   🌐 Subdomain: {instance.subdomain}\")\n",
    "            print(f\"   📍 Region: {instance.region or 'N/A'}\")\n",
    "            print(f\"   📅 Created: {instance.created_at}\")\n",
    "            print()\n",
    "            \n",
    "            if is_ours:\n",
    "                our_instance_found = True\n",
    "        \n",
    "        if len(instances) > 15:\n",
    "            print(f\"... and {len(instances) - 15} more instances\")\n",
    "            \n",
    "        if test_env:\n",
    "            if our_instance_found:\n",
    "                print(f\"✅ Our instance {test_env.instance_id} found in running list!\")\n",
    "            else:\n",
    "                print(f\"⏳ Our instance {test_env.instance_id} not yet in running list (may still be starting)\")\n",
    "        \n",
    "        return instances\n",
    "        \n",
    "    except Exception as e:\n",
    "        print(f\"❌ Error listing instances: {e}\")\n",
    "        import traceback\n",
    "        traceback.print_exc()\n",
    "        return []\n",
    "\n",
    "# List running instances\n",
    "running_instances = list_running_instances()\n"
   ]
  },
  {
   "cell_type": "code",
   "execution_count": null,
   "id": "210b5c50",
   "metadata": {},
   "outputs": [],
   "source": [
    "# Cleanup: Close the test environment\n",
    "\n",
    "def cleanup_test_environment():\n",
    "    \"\"\"Clean up the test environment instance.\"\"\"\n",
    "    if not test_env:\n",
    "        print(\"ℹ️  No test environment to clean up\")\n",
    "        return\n",
    "        \n",
    "    try:\n",
    "        print(f\"🧹 Cleaning up test environment: {test_env.instance_id}\")\n",
    "        \n",
    "        # Close the environment (this will delete the instance)\n",
    "        test_env.close()\n",
    "        \n",
    "        print(f\"✅ Environment {test_env.instance_id} cleaned up successfully!\")\n",
    "        print(\"🗑️  Instance has been deleted from Fleet\")\n",
    "        \n",
    "    except Exception as e:\n",
    "        print(f\"❌ Error during cleanup: {e}\")\n",
    "        print(\"⚠️  You may need to manually delete the instance from the Fleet dashboard\")\n",
    "        import traceback\n",
    "        traceback.print_exc()\n",
    "\n",
    "# Cleanup (run this when you're done testing)\n",
    "# cleanup_test_environment()\n",
    "\n",
    "print(\"🎯 Test Complete!\")\n",
    "print(\"=\" * 60)\n",
    "print(\"✅ Package installation: SUCCESS\")\n",
    "print(\"✅ Environment creation: \" + (\"SUCCESS\" if test_env else \"FAILED\"))\n",
    "print(\"✅ Instance listing: \" + (\"SUCCESS\" if 'running_instances' in locals() else \"FAILED\"))\n",
    "print(\"✅ Manager API: \" + (\"SUCCESS\" if test_env else \"FAILED\"))\n",
    "print()\n",
    "print(\"💡 Uncomment the cleanup line above to delete the test instance when done.\")\n"
   ]
  }
 ],
 "metadata": {
  "kernelspec": {
   "display_name": "Python 3",
   "language": "python",
   "name": "python3"
  },
  "language_info": {
   "codemirror_mode": {
    "name": "ipython",
    "version": 3
   },
   "file_extension": ".py",
   "mimetype": "text/x-python",
   "name": "python",
   "nbconvert_exporter": "python",
   "pygments_lexer": "ipython3",
   "version": "3.10.10"
  }
 },
 "nbformat": 4,
 "nbformat_minor": 5
}
